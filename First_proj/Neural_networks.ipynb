{
 "cells": [
  {
   "cell_type": "code",
   "execution_count": 9,
   "id": "initial_id",
   "metadata": {
    "collapsed": true,
    "ExecuteTime": {
     "end_time": "2024-03-24T16:19:37.658850Z",
     "start_time": "2024-03-24T16:19:37.647356Z"
    }
   },
   "outputs": [],
   "source": [
    "import tensorflow as tf\n",
    "from tensorflow import keras\n",
    "from tensorflow.keras import layers\n",
    "from tensorflow.keras.datasets import mnist"
   ]
  },
  {
   "cell_type": "markdown",
   "source": [
    "## Loading mnist dataset"
   ],
   "metadata": {
    "collapsed": false
   },
   "id": "6670c852f94eb877"
  },
  {
   "cell_type": "code",
   "outputs": [
    {
     "name": "stdout",
     "output_type": "stream",
     "text": [
      "(60000, 28, 28)\n",
      "(60000,)\n"
     ]
    }
   ],
   "source": [
    "(x_train, y_train), (x_test, y_test) = mnist.load_data()\n",
    "print(x_train.shape)\n",
    "print(y_train.shape)\n"
   ],
   "metadata": {
    "collapsed": false,
    "ExecuteTime": {
     "end_time": "2024-03-24T16:19:38.207753Z",
     "start_time": "2024-03-24T16:19:37.738633Z"
    }
   },
   "id": "6c0a39a56236ca67",
   "execution_count": 10
  },
  {
   "cell_type": "code",
   "outputs": [],
   "source": [
    "x_train = x_train.reshape(-1, 28*28).astype(\"float32\") / 255.0 # we divided by 255 to normalize the values to be between 0 and 1 rather than 0 and 255\n",
    "x_test = x_test.reshape(-1, 28*28).astype(\"float32\") / 255.0 \n",
    "# the conversion from numpy to tensor is done automatically"
   ],
   "metadata": {
    "collapsed": false,
    "ExecuteTime": {
     "end_time": "2024-03-24T16:19:38.655409Z",
     "start_time": "2024-03-24T16:19:38.212720Z"
    }
   },
   "id": "78ef6a00a90e904e",
   "execution_count": 11
  },
  {
   "cell_type": "markdown",
   "source": [
    "## Sequential api (very convenient, not very flexible)"
   ],
   "metadata": {
    "collapsed": false
   },
   "id": "87bd67a1e0a01412"
  },
  {
   "cell_type": "code",
   "outputs": [
    {
     "name": "stdout",
     "output_type": "stream",
     "text": [
      "\u001B[1m1875/1875\u001B[0m \u001B[32m━━━━━━━━━━━━━━━━━━━━\u001B[0m\u001B[37m\u001B[0m \u001B[1m11s\u001B[0m 6ms/step\n",
      "(60000, 512)\n",
      "(60000, 256)\n",
      "(60000, 10)\n"
     ]
    }
   ],
   "source": [
    "# Sequential groups a linear stack of layers into a Model.\n",
    "# it's not very flexible because we can only map one input to one output\n",
    "model = keras.Sequential([\n",
    "    keras.Input(shape=(784,)),# input layer\n",
    "    layers.Dense(units=512, activation='relu'),#hidden layer\n",
    "    layers.Dense(256, activation='relu', name = \"my_layer\"),#hidden layer\n",
    "    layers.Dense(10)# output layer\n",
    "])\n",
    "# print(model.summary())\n",
    "# model = keras.Model(inputs=model.inputs,\n",
    "#                     outputs=[model.layers[-2].output\n",
    "#                              ])\n",
    "model = keras.Model(inputs=model.inputs,\n",
    "                    outputs=[layer.output for layer in model.layers]\n",
    "                             )\n",
    "features = model.predict(x_train)\n",
    "for feature in features:\n",
    "    print(feature.shape)"
   ],
   "metadata": {
    "collapsed": false,
    "ExecuteTime": {
     "end_time": "2024-03-24T16:46:51.952368Z",
     "start_time": "2024-03-24T16:46:36.431637Z"
    }
   },
   "id": "8a2e785e5641debe",
   "execution_count": 31
  },
  {
   "cell_type": "code",
   "outputs": [],
   "source": [
    "# model.compile specify the network config\n",
    "model.compile(\n",
    "    loss = keras.losses.SparseCategoricalCrossentropy(from_logits=True),\n",
    "    optimizer = keras.optimizers.Adam(learning_rate=0.001),\n",
    "    metrics=['accuracy']\n",
    ")"
   ],
   "metadata": {
    "collapsed": false,
    "ExecuteTime": {
     "end_time": "2024-03-24T16:27:42.876152Z",
     "start_time": "2024-03-24T16:27:42.861830Z"
    }
   },
   "id": "1fc4f38c011b6005",
   "execution_count": 21
  },
  {
   "cell_type": "markdown",
   "source": [],
   "metadata": {
    "collapsed": false
   },
   "id": "85fc9e6bd899c32d"
  },
  {
   "cell_type": "code",
   "outputs": [
    {
     "name": "stdout",
     "output_type": "stream",
     "text": [
      "Epoch 1/5\n",
      "1875/1875 - 17s - 9ms/step - accuracy: 0.9444 - loss: 0.1841\n",
      "Epoch 2/5\n",
      "1875/1875 - 17s - 9ms/step - accuracy: 0.9758 - loss: 0.0780\n",
      "Epoch 3/5\n",
      "1875/1875 - 19s - 10ms/step - accuracy: 0.9824 - loss: 0.0550\n",
      "Epoch 4/5\n",
      "1875/1875 - 14s - 7ms/step - accuracy: 0.9864 - loss: 0.0427\n",
      "Epoch 5/5\n",
      "1875/1875 - 15s - 8ms/step - accuracy: 0.9892 - loss: 0.0339\n",
      "313/313 - 1s - 3ms/step - accuracy: 0.9811 - loss: 0.0712\n"
     ]
    },
    {
     "data": {
      "text/plain": "[0.07118415832519531, 0.9811000227928162]"
     },
     "execution_count": 22,
     "metadata": {},
     "output_type": "execute_result"
    }
   ],
   "source": [
    "# specify the concrete training of the network\n",
    "model.fit(x_train, y_train,batch_size=32,epochs=5,verbose = 2)\n",
    "model.evaluate(x_test, y_test,batch_size=32,verbose = 2)"
   ],
   "metadata": {
    "collapsed": false,
    "ExecuteTime": {
     "end_time": "2024-03-24T16:29:12.105825Z",
     "start_time": "2024-03-24T16:27:48.477266Z"
    }
   },
   "id": "b9bd6ccf6376b8c1",
   "execution_count": 22
  },
  {
   "cell_type": "markdown",
   "source": [
    "## Functional API(a bit more flexible)"
   ],
   "metadata": {
    "collapsed": false
   },
   "id": "bf1fd2d7dc864473"
  },
  {
   "cell_type": "code",
   "outputs": [],
   "source": [
    "inputs = keras.Input(shape=(784,))\n",
    "x = layers.Dense(512,activation='relu')(inputs)\n",
    "x = layers.Dense(256,activation='relu')(x)\n",
    "outputs = layers.Dense(10, activation='softmax')(x)\n",
    "model = keras.Model(inputs=inputs, outputs=outputs)"
   ],
   "metadata": {
    "collapsed": false,
    "ExecuteTime": {
     "end_time": "2024-03-24T16:35:47.768824Z",
     "start_time": "2024-03-24T16:35:47.715938Z"
    }
   },
   "id": "da0d91d7c8cb4c5e",
   "execution_count": 24
  },
  {
   "cell_type": "code",
   "outputs": [],
   "source": [
    "model.compile(\n",
    "    loss = keras.losses.SparseCategoricalCrossentropy(from_logits=False),\n",
    "    optimizer = keras.optimizers.Adam(learning_rate=0.001),\n",
    "    metrics=['accuracy']\n",
    ")"
   ],
   "metadata": {
    "collapsed": false,
    "ExecuteTime": {
     "end_time": "2024-03-24T16:35:59.292283Z",
     "start_time": "2024-03-24T16:35:59.265493Z"
    }
   },
   "id": "389b49cde055ff91",
   "execution_count": 25
  },
  {
   "cell_type": "code",
   "outputs": [
    {
     "name": "stdout",
     "output_type": "stream",
     "text": [
      "Epoch 1/5\n",
      "1875/1875 - 26s - 14ms/step - accuracy: 0.9436 - loss: 0.1860\n",
      "Epoch 2/5\n",
      "1875/1875 - 23s - 12ms/step - accuracy: 0.9752 - loss: 0.0801\n",
      "Epoch 3/5\n",
      "1875/1875 - 24s - 13ms/step - accuracy: 0.9828 - loss: 0.0544\n",
      "Epoch 4/5\n",
      "1875/1875 - 24s - 13ms/step - accuracy: 0.9867 - loss: 0.0396\n",
      "Epoch 5/5\n",
      "1875/1875 - 22s - 12ms/step - accuracy: 0.9897 - loss: 0.0332\n",
      "313/313 - 1s - 4ms/step - accuracy: 0.9758 - loss: 0.0821\n"
     ]
    },
    {
     "data": {
      "text/plain": "[0.08205906301736832, 0.9757999777793884]"
     },
     "execution_count": 26,
     "metadata": {},
     "output_type": "execute_result"
    }
   ],
   "source": [
    "# specify the concrete training of the network\n",
    "model.fit(x_train, y_train,batch_size=32,epochs=5,verbose = 2)\n",
    "model.evaluate(x_test, y_test,batch_size=32,verbose = 2)"
   ],
   "metadata": {
    "collapsed": false,
    "ExecuteTime": {
     "end_time": "2024-03-24T16:38:16.655477Z",
     "start_time": "2024-03-24T16:36:16.025080Z"
    }
   },
   "id": "3ccb1589f8fe9593",
   "execution_count": 26
  },
  {
   "cell_type": "markdown",
   "source": [
    "Documentation : https://keras.io/api/models/sequential/"
   ],
   "metadata": {
    "collapsed": false
   },
   "id": "b221753f70201879"
  }
 ],
 "metadata": {
  "kernelspec": {
   "display_name": "Python 3",
   "language": "python",
   "name": "python3"
  },
  "language_info": {
   "codemirror_mode": {
    "name": "ipython",
    "version": 2
   },
   "file_extension": ".py",
   "mimetype": "text/x-python",
   "name": "python",
   "nbconvert_exporter": "python",
   "pygments_lexer": "ipython2",
   "version": "2.7.6"
  }
 },
 "nbformat": 4,
 "nbformat_minor": 5
}
