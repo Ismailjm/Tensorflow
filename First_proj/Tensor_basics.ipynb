{
 "nbformat": 4,
 "nbformat_minor": 0,
 "metadata": {
  "colab": {
   "provenance": []
  },
  "kernelspec": {
   "name": "python3",
   "language": "python",
   "display_name": "Python 3 (ipykernel)"
  },
  "language_info": {
   "name": "python"
  }
 },
 "cells": [
  {
   "cell_type": "code",
   "execution_count": 2,
   "metadata": {
    "id": "OcvQDeWl88K0",
    "ExecuteTime": {
     "end_time": "2024-03-23T16:36:07.563327Z",
     "start_time": "2024-03-23T16:35:57.874403Z"
    }
   },
   "outputs": [],
   "source": [
    "import tensorflow as tf"
   ]
  },
  {
   "cell_type": "code",
   "outputs": [],
   "source": [
    "import os \n",
    "os.environ['TF_CPP_MIN_LOG_LEVEL'] = '2'"
   ],
   "metadata": {
    "collapsed": false,
    "ExecuteTime": {
     "end_time": "2024-03-23T17:04:19.473672Z",
     "start_time": "2024-03-23T17:04:19.430125Z"
    }
   },
   "execution_count": 21
  },
  {
   "cell_type": "markdown",
   "source": [
    "## Initialization of tensors"
   ],
   "metadata": {
    "id": "sq-oWrhJ_Z7U"
   }
  },
  {
   "cell_type": "code",
   "source": [
    "x = tf.constant(4)\n",
    "x"
   ],
   "metadata": {
    "colab": {
     "base_uri": "https://localhost:8080/"
    },
    "id": "JJXgsKpt_hvo",
    "outputId": "73f03624-9e9d-4b93-aded-e7a33bf299d8",
    "ExecuteTime": {
     "end_time": "2024-03-23T16:36:07.674399Z",
     "start_time": "2024-03-23T16:36:07.565326Z"
    }
   },
   "execution_count": 3,
   "outputs": [
    {
     "data": {
      "text/plain": "<tf.Tensor: shape=(), dtype=int32, numpy=4>"
     },
     "execution_count": 3,
     "metadata": {},
     "output_type": "execute_result"
    }
   ]
  },
  {
   "cell_type": "code",
   "source": [
    "x = tf.constant([[1,2,3],[4,5,6]])\n",
    "x"
   ],
   "metadata": {
    "colab": {
     "base_uri": "https://localhost:8080/"
    },
    "id": "LflG9ceCANEu",
    "outputId": "ef56d27a-64c7-46c4-c13b-050b1adbb64c",
    "ExecuteTime": {
     "end_time": "2024-03-23T16:36:07.685107Z",
     "start_time": "2024-03-23T16:36:07.675401Z"
    }
   },
   "execution_count": 4,
   "outputs": [
    {
     "data": {
      "text/plain": "<tf.Tensor: shape=(2, 3), dtype=int32, numpy=\narray([[1, 2, 3],\n       [4, 5, 6]])>"
     },
     "execution_count": 4,
     "metadata": {},
     "output_type": "execute_result"
    }
   ]
  },
  {
   "cell_type": "code",
   "source": [
    "x = tf.constant([1,2,3,4,5,6])\n",
    "x"
   ],
   "metadata": {
    "colab": {
     "base_uri": "https://localhost:8080/"
    },
    "id": "ourCtR-jAVvy",
    "outputId": "c4ad2f78-a0f5-4a98-df98-e8745464b11b",
    "ExecuteTime": {
     "end_time": "2024-03-23T16:36:07.698505Z",
     "start_time": "2024-03-23T16:36:07.688127Z"
    }
   },
   "execution_count": 5,
   "outputs": [
    {
     "data": {
      "text/plain": "<tf.Tensor: shape=(6,), dtype=int32, numpy=array([1, 2, 3, 4, 5, 6])>"
     },
     "execution_count": 5,
     "metadata": {},
     "output_type": "execute_result"
    }
   ]
  },
  {
   "cell_type": "code",
   "source": [
    "x = tf.ones((3,3))\n",
    "x"
   ],
   "metadata": {
    "colab": {
     "base_uri": "https://localhost:8080/"
    },
    "id": "cjY3Kxg9BCGH",
    "outputId": "6cf68cb5-096b-45be-c2ba-8d6d7d8beead",
    "ExecuteTime": {
     "end_time": "2024-03-23T16:36:07.730291Z",
     "start_time": "2024-03-23T16:36:07.700505Z"
    }
   },
   "execution_count": 6,
   "outputs": [
    {
     "data": {
      "text/plain": "<tf.Tensor: shape=(3, 3), dtype=float32, numpy=\narray([[1., 1., 1.],\n       [1., 1., 1.],\n       [1., 1., 1.]], dtype=float32)>"
     },
     "execution_count": 6,
     "metadata": {},
     "output_type": "execute_result"
    }
   ]
  },
  {
   "cell_type": "code",
   "source": [
    "x = tf.zeros((3,3))\n",
    "x"
   ],
   "metadata": {
    "colab": {
     "base_uri": "https://localhost:8080/"
    },
    "id": "iZL0IXESBHtF",
    "outputId": "e9b8fb08-3878-4cee-8309-638be57c6325",
    "ExecuteTime": {
     "end_time": "2024-03-23T16:36:07.742837Z",
     "start_time": "2024-03-23T16:36:07.732291Z"
    }
   },
   "execution_count": 7,
   "outputs": [
    {
     "data": {
      "text/plain": "<tf.Tensor: shape=(3, 3), dtype=float32, numpy=\narray([[0., 0., 0.],\n       [0., 0., 0.],\n       [0., 0., 0.]], dtype=float32)>"
     },
     "execution_count": 7,
     "metadata": {},
     "output_type": "execute_result"
    }
   ]
  },
  {
   "cell_type": "code",
   "source": [
    "x = tf.eye(3)\n",
    "x"
   ],
   "metadata": {
    "colab": {
     "base_uri": "https://localhost:8080/"
    },
    "id": "7zhxo2A0BLd0",
    "outputId": "66c02cd6-1a4a-4718-a273-3a5baf5e3626",
    "ExecuteTime": {
     "end_time": "2024-03-23T16:36:07.763420Z",
     "start_time": "2024-03-23T16:36:07.744840Z"
    }
   },
   "execution_count": 8,
   "outputs": [
    {
     "data": {
      "text/plain": "<tf.Tensor: shape=(3, 3), dtype=float32, numpy=\narray([[1., 0., 0.],\n       [0., 1., 0.],\n       [0., 0., 1.]], dtype=float32)>"
     },
     "execution_count": 8,
     "metadata": {},
     "output_type": "execute_result"
    }
   ]
  },
  {
   "cell_type": "code",
   "source": [
    "x = tf.random.normal((3,3), mean=0,stddev=1)\n",
    "x"
   ],
   "metadata": {
    "colab": {
     "base_uri": "https://localhost:8080/"
    },
    "id": "6s6m2X-4BQ9W",
    "outputId": "03579eb4-1d60-42b9-d375-a0304a630f77",
    "ExecuteTime": {
     "end_time": "2024-03-23T16:36:07.797249Z",
     "start_time": "2024-03-23T16:36:07.766416Z"
    }
   },
   "execution_count": 9,
   "outputs": [
    {
     "data": {
      "text/plain": "<tf.Tensor: shape=(3, 3), dtype=float32, numpy=\narray([[-0.5241879 , -1.2776138 ,  2.24117   ],\n       [ 1.0522685 , -0.40040317,  0.96755916],\n       [-1.1489316 , -0.62379205, -0.6292939 ]], dtype=float32)>"
     },
     "execution_count": 9,
     "metadata": {},
     "output_type": "execute_result"
    }
   ]
  },
  {
   "cell_type": "code",
   "source": [
    "x = tf.random.uniform((3,3), minval=0,maxval=1)\n",
    "x"
   ],
   "metadata": {
    "colab": {
     "base_uri": "https://localhost:8080/"
    },
    "id": "dwEys2zHBhI3",
    "outputId": "7aed6bef-e366-4201-d30e-e257bd701689",
    "ExecuteTime": {
     "end_time": "2024-03-23T16:36:07.813861Z",
     "start_time": "2024-03-23T16:36:07.800245Z"
    }
   },
   "execution_count": 10,
   "outputs": [
    {
     "data": {
      "text/plain": "<tf.Tensor: shape=(3, 3), dtype=float32, numpy=\narray([[0.954597  , 0.3167373 , 0.48462892],\n       [0.19490206, 0.8956108 , 0.13572836],\n       [0.3306197 , 0.97697055, 0.1748749 ]], dtype=float32)>"
     },
     "execution_count": 10,
     "metadata": {},
     "output_type": "execute_result"
    }
   ]
  },
  {
   "cell_type": "code",
   "source": [
    "x = tf.range(start=1,limit=10,delta=2) #delta = step\n",
    "x"
   ],
   "metadata": {
    "colab": {
     "base_uri": "https://localhost:8080/"
    },
    "id": "wl7y361hBvK_",
    "outputId": "4627fca4-ee56-4b0f-f4bb-0ff0d5f61af6",
    "ExecuteTime": {
     "end_time": "2024-03-23T16:36:07.834154Z",
     "start_time": "2024-03-23T16:36:07.817855Z"
    }
   },
   "execution_count": 11,
   "outputs": [
    {
     "data": {
      "text/plain": "<tf.Tensor: shape=(5,), dtype=int32, numpy=array([1, 3, 5, 7, 9])>"
     },
     "execution_count": 11,
     "metadata": {},
     "output_type": "execute_result"
    }
   ]
  },
  {
   "cell_type": "code",
   "source": [
    "x = tf.cast(x,dtype=tf.float64)\n",
    "# tf.float (16,32,64), tf.int (8,16,32,64), tf.bool\n",
    "x"
   ],
   "metadata": {
    "colab": {
     "base_uri": "https://localhost:8080/"
    },
    "id": "D6f8jvYdB-nm",
    "outputId": "5a4ec2a8-6c5f-4281-e198-0f250d1563ca",
    "ExecuteTime": {
     "end_time": "2024-03-23T16:36:07.851366Z",
     "start_time": "2024-03-23T16:36:07.836153Z"
    }
   },
   "execution_count": 12,
   "outputs": [
    {
     "data": {
      "text/plain": "<tf.Tensor: shape=(5,), dtype=float64, numpy=array([1., 3., 5., 7., 9.])>"
     },
     "execution_count": 12,
     "metadata": {},
     "output_type": "execute_result"
    }
   ]
  },
  {
   "cell_type": "markdown",
   "source": [
    "## Mathematical Operations"
   ],
   "metadata": {
    "id": "lLLzX2CYCwKp"
   }
  },
  {
   "cell_type": "code",
   "source": [
    "x = tf.constant([1,2,3])\n",
    "y = tf.constant([9,8,7])\n",
    "\n",
    "z = tf.add(x,y)\n",
    "z = x+y\n",
    "\n",
    "z = tf.subtract(x,y)\n",
    "z = x - y\n",
    "\n",
    "z = tf.divide(x,y)\n",
    "z = x / y\n",
    "\n",
    "z = tf.multiply(x,y)\n",
    "z = x * y\n",
    "\n",
    "z = x**2\n",
    "\n",
    "z"
   ],
   "metadata": {
    "colab": {
     "base_uri": "https://localhost:8080/"
    },
    "id": "KvvPX8R8Cuej",
    "outputId": "490947d1-55d3-4d2f-9d86-4c49405b537a",
    "ExecuteTime": {
     "end_time": "2024-03-23T16:36:07.898329Z",
     "start_time": "2024-03-23T16:36:07.853364Z"
    }
   },
   "execution_count": 13,
   "outputs": [
    {
     "data": {
      "text/plain": "<tf.Tensor: shape=(3,), dtype=int32, numpy=array([1, 4, 9])>"
     },
     "execution_count": 13,
     "metadata": {},
     "output_type": "execute_result"
    }
   ]
  },
  {
   "cell_type": "code",
   "source": [
    "x = tf.random.normal((2,3),dtype=tf.float32)\n",
    "x = tf.random.normal((3,4),dtype=tf.float32)\n",
    "z = tf.matmul(x,y)\n",
    "# z = x @ y\n",
    "\n",
    "z"
   ],
   "metadata": {
    "colab": {
     "base_uri": "https://localhost:8080/",
     "height": 391
    },
    "id": "UGPgG3cBELIG",
    "outputId": "4ff91d19-5841-431f-fbc8-1eb76b8ef2d2",
    "ExecuteTime": {
     "end_time": "2024-03-23T16:36:09.493817Z",
     "start_time": "2024-03-23T16:36:07.900328Z"
    }
   },
   "execution_count": 14,
   "outputs": [
    {
     "ename": "InvalidArgumentError",
     "evalue": "cannot compute _MklMatMul as input #1(zero-based) was expected to be a float tensor but is a int32 tensor [Op:MatMul] name: ",
     "output_type": "error",
     "traceback": [
      "\u001B[1;31m---------------------------------------------------------------------------\u001B[0m",
      "\u001B[1;31mInvalidArgumentError\u001B[0m                      Traceback (most recent call last)",
      "Cell \u001B[1;32mIn[14], line 3\u001B[0m\n\u001B[0;32m      1\u001B[0m x \u001B[38;5;241m=\u001B[39m tf\u001B[38;5;241m.\u001B[39mrandom\u001B[38;5;241m.\u001B[39mnormal((\u001B[38;5;241m2\u001B[39m,\u001B[38;5;241m3\u001B[39m),dtype\u001B[38;5;241m=\u001B[39mtf\u001B[38;5;241m.\u001B[39mfloat32)\n\u001B[0;32m      2\u001B[0m x \u001B[38;5;241m=\u001B[39m tf\u001B[38;5;241m.\u001B[39mrandom\u001B[38;5;241m.\u001B[39mnormal((\u001B[38;5;241m3\u001B[39m,\u001B[38;5;241m4\u001B[39m),dtype\u001B[38;5;241m=\u001B[39mtf\u001B[38;5;241m.\u001B[39mfloat32)\n\u001B[1;32m----> 3\u001B[0m z \u001B[38;5;241m=\u001B[39m \u001B[43mtf\u001B[49m\u001B[38;5;241;43m.\u001B[39;49m\u001B[43mmatmul\u001B[49m\u001B[43m(\u001B[49m\u001B[43mx\u001B[49m\u001B[43m,\u001B[49m\u001B[43my\u001B[49m\u001B[43m)\u001B[49m\n\u001B[0;32m      4\u001B[0m \u001B[38;5;66;03m# z = x @ y\u001B[39;00m\n\u001B[0;32m      6\u001B[0m z\n",
      "File \u001B[1;32m~\\anaconda\\Lib\\site-packages\\tensorflow\\python\\ops\\weak_tensor_ops.py:142\u001B[0m, in \u001B[0;36mweak_tensor_binary_op_wrapper.<locals>.wrapper\u001B[1;34m(*args, **kwargs)\u001B[0m\n\u001B[0;32m    140\u001B[0m \u001B[38;5;28;01mdef\u001B[39;00m \u001B[38;5;21mwrapper\u001B[39m(\u001B[38;5;241m*\u001B[39margs, \u001B[38;5;241m*\u001B[39m\u001B[38;5;241m*\u001B[39mkwargs):\n\u001B[0;32m    141\u001B[0m   \u001B[38;5;28;01mif\u001B[39;00m \u001B[38;5;129;01mnot\u001B[39;00m ops\u001B[38;5;241m.\u001B[39mis_auto_dtype_conversion_enabled():\n\u001B[1;32m--> 142\u001B[0m     \u001B[38;5;28;01mreturn\u001B[39;00m \u001B[43mop\u001B[49m\u001B[43m(\u001B[49m\u001B[38;5;241;43m*\u001B[39;49m\u001B[43margs\u001B[49m\u001B[43m,\u001B[49m\u001B[43m \u001B[49m\u001B[38;5;241;43m*\u001B[39;49m\u001B[38;5;241;43m*\u001B[39;49m\u001B[43mkwargs\u001B[49m\u001B[43m)\u001B[49m\n\u001B[0;32m    143\u001B[0m   bound_arguments \u001B[38;5;241m=\u001B[39m signature\u001B[38;5;241m.\u001B[39mbind(\u001B[38;5;241m*\u001B[39margs, \u001B[38;5;241m*\u001B[39m\u001B[38;5;241m*\u001B[39mkwargs)\n\u001B[0;32m    144\u001B[0m   bound_arguments\u001B[38;5;241m.\u001B[39mapply_defaults()\n",
      "File \u001B[1;32m~\\anaconda\\Lib\\site-packages\\tensorflow\\python\\util\\traceback_utils.py:153\u001B[0m, in \u001B[0;36mfilter_traceback.<locals>.error_handler\u001B[1;34m(*args, **kwargs)\u001B[0m\n\u001B[0;32m    151\u001B[0m \u001B[38;5;28;01mexcept\u001B[39;00m \u001B[38;5;167;01mException\u001B[39;00m \u001B[38;5;28;01mas\u001B[39;00m e:\n\u001B[0;32m    152\u001B[0m   filtered_tb \u001B[38;5;241m=\u001B[39m _process_traceback_frames(e\u001B[38;5;241m.\u001B[39m__traceback__)\n\u001B[1;32m--> 153\u001B[0m   \u001B[38;5;28;01mraise\u001B[39;00m e\u001B[38;5;241m.\u001B[39mwith_traceback(filtered_tb) \u001B[38;5;28;01mfrom\u001B[39;00m \u001B[38;5;28;01mNone\u001B[39;00m\n\u001B[0;32m    154\u001B[0m \u001B[38;5;28;01mfinally\u001B[39;00m:\n\u001B[0;32m    155\u001B[0m   \u001B[38;5;28;01mdel\u001B[39;00m filtered_tb\n",
      "File \u001B[1;32m~\\anaconda\\Lib\\site-packages\\tensorflow\\python\\framework\\ops.py:5983\u001B[0m, in \u001B[0;36mraise_from_not_ok_status\u001B[1;34m(e, name)\u001B[0m\n\u001B[0;32m   5981\u001B[0m \u001B[38;5;28;01mdef\u001B[39;00m \u001B[38;5;21mraise_from_not_ok_status\u001B[39m(e, name) \u001B[38;5;241m-\u001B[39m\u001B[38;5;241m>\u001B[39m NoReturn:\n\u001B[0;32m   5982\u001B[0m   e\u001B[38;5;241m.\u001B[39mmessage \u001B[38;5;241m+\u001B[39m\u001B[38;5;241m=\u001B[39m (\u001B[38;5;124m\"\u001B[39m\u001B[38;5;124m name: \u001B[39m\u001B[38;5;124m\"\u001B[39m \u001B[38;5;241m+\u001B[39m \u001B[38;5;28mstr\u001B[39m(name \u001B[38;5;28;01mif\u001B[39;00m name \u001B[38;5;129;01mis\u001B[39;00m \u001B[38;5;129;01mnot\u001B[39;00m \u001B[38;5;28;01mNone\u001B[39;00m \u001B[38;5;28;01melse\u001B[39;00m \u001B[38;5;124m\"\u001B[39m\u001B[38;5;124m\"\u001B[39m))\n\u001B[1;32m-> 5983\u001B[0m   \u001B[38;5;28;01mraise\u001B[39;00m core\u001B[38;5;241m.\u001B[39m_status_to_exception(e) \u001B[38;5;28;01mfrom\u001B[39;00m \u001B[38;5;28;01mNone\u001B[39;00m\n",
      "\u001B[1;31mInvalidArgumentError\u001B[0m: cannot compute _MklMatMul as input #1(zero-based) was expected to be a float tensor but is a int32 tensor [Op:MatMul] name: "
     ]
    }
   ]
  },
  {
   "cell_type": "markdown",
   "source": [
    "## Indexing Tensors"
   ],
   "metadata": {
    "id": "0o7PFG7mFwGf"
   }
  },
  {
   "cell_type": "code",
   "source": [
    "x = tf.constant([0,1,1,2,2,3,1,2,3])\n",
    "print(x[:])\n",
    "print(x[1:])\n",
    "print(x[1:3])\n",
    "print(x[::2])\n",
    "print(x[::-1])"
   ],
   "metadata": {
    "colab": {
     "base_uri": "https://localhost:8080/"
    },
    "id": "NWhpVuyLF05b",
    "outputId": "ac5e8c97-4569-4187-84ce-b6e6ce3f68ec",
    "ExecuteTime": {
     "end_time": "2024-03-23T16:36:09.496819Z",
     "start_time": "2024-03-23T16:36:09.495815Z"
    }
   },
   "execution_count": null,
   "outputs": []
  },
  {
   "cell_type": "code",
   "source": [
    "indices = tf.constant([0,3])\n",
    "# x_ind = tf.gather(x,indices)\n",
    "\n",
    "x = tf.constant([[1,2],[3,4],[5,6]])\n",
    "print(x[0,:])\n",
    "print(x[0:2,:])"
   ],
   "metadata": {
    "colab": {
     "base_uri": "https://localhost:8080/"
    },
    "id": "KMHY2hWiGJ75",
    "outputId": "a2eaeb9c-e4d8-460c-aaf9-b2ddab80439a"
   },
   "execution_count": null,
   "outputs": []
  },
  {
   "cell_type": "markdown",
   "source": [
    "## Reshaping"
   ],
   "metadata": {
    "id": "Xtre7clUJRiw"
   }
  },
  {
   "cell_type": "code",
   "source": [
    "x = tf.range(9)\n",
    "\n",
    "x = tf.reshape(x,(3,3))\n",
    "\n",
    "x = tf.transpose(x)\n",
    "print(x)\n"
   ],
   "metadata": {
    "id": "nwd4HWNbI4ud",
    "ExecuteTime": {
     "end_time": "2024-03-23T16:37:56.366425Z",
     "start_time": "2024-03-23T16:37:56.333248Z"
    }
   },
   "execution_count": 20,
   "outputs": [
    {
     "name": "stdout",
     "output_type": "stream",
     "text": [
      "tf.Tensor(\n",
      "[[0 3 6]\n",
      " [1 4 7]\n",
      " [2 5 8]], shape=(3, 3), dtype=int32)\n"
     ]
    }
   ]
  },
  {
   "cell_type": "code",
   "outputs": [],
   "source": [],
   "metadata": {
    "collapsed": false
   }
  }
 ]
}
